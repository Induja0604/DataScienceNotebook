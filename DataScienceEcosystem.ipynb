{
  "metadata": {
    "kernelspec": {
      "name": "python",
      "display_name": "Python (Pyodide)",
      "language": "python"
    },
    "language_info": {
      "codemirror_mode": {
        "name": "python",
        "version": 3
      },
      "file_extension": ".py",
      "mimetype": "text/x-python",
      "name": "python",
      "nbconvert_exporter": "python",
      "pygments_lexer": "ipython3",
      "version": "3.8"
    }
  },
  "nbformat_minor": 4,
  "nbformat": 4,
  "cells": [
    {
      "cell_type": "markdown",
      "source": "# Data Science Tools and Ecosystem",
      "metadata": {}
    },
    {
      "cell_type": "markdown",
      "source": "In this notebook, Data Science Tools and Ecosystem are summarized.",
      "metadata": {}
    },
    {
      "cell_type": "markdown",
      "source": "Some of the popular languages that Data Scientists use are:\n1. **Python**: Python is widely favored for its versatility and extensive libraries such as NumPy, Pandas, and scikit-learn, which are essential for data manipulation, analysis, and machine learning.\n\n2. **R**: R is a statistical programming language known for its powerful packages like ggplot2 for data visualization and dplyr for data manipulation. It's widely used in academia and research.\n\n3. **SQL**: SQL (Structured Query Language) is essential for data querying and manipulation in relational databases. Data Scientists often use SQL to extract, transform, and analyze data stored in databases.",
      "metadata": {}
    },
    {
      "cell_type": "markdown",
      "source": "Some of the commonly used libraries used by Data Scientists include:\n\n1. **NumPy**: NumPy is a fundamental package for scientific computing in Python. It provides support for large, multi-dimensional arrays and matrices, along with a collection of mathematical functions to operate on these arrays.\n\n2. **Pandas**: Pandas is a powerful library for data manipulation and analysis in Python. It offers data structures like DataFrame and Series, which are essential for cleaning, transforming, and analyzing data.\n\n3. **scikit-learn**: scikit-learn is a machine learning library in Python. It provides simple and efficient tools for data mining and data analysis, implementing a wide range of machine learning algorithms for classification, regression, clustering, and dimensionality reduction.\n\n4. **Matplotlib**: Matplotlib is a plotting library for Python. It allows you to create static, animated, and interactive visualizations in Python. It is often used together with other libraries like NumPy and Pandas for data visualization tasks.\n\n5. **TensorFlow and/or PyTorch**: These are popular libraries for deep learning and neural network-based machine learning tasks. They provide flexible frameworks for building and training machine learning models, especially in areas like natural language processing, image recognition, and reinforcement learning.\n   ",
      "metadata": {}
    },
    {
      "cell_type": "markdown",
      "source": "| Data Science Tools      |\n|-------------------------|\n| Jupyter Notebook        |\n| RStudio                 |\n| Apache Zeppelin         |",
      "metadata": {}
    },
    {
      "cell_type": "markdown",
      "source": "###Below are a few examples of evaluating arithmetic expressions in Python:\n- Addition: `2 + 3` evaluates to 5.\n- Subtraction: `5 - 2` evaluates to 3.\n- Multiplication: `4 * 6` evaluates to 24.\n- Division: `10 / 2` evaluates to 5.0 (floating-point division).\n- Integer Division: `10 // 3` evaluates to 3 (integer division, discards the",
      "metadata": {}
    },
    {
      "cell_type": "markdown",
      "source": "# This is a simple arithmetic expression to multiply then add integers.\nresult = (3*4)+5\nprint(result)",
      "metadata": {}
    },
    {
      "cell_type": "markdown",
      "source": "# This will convert 200 minutes to hours by dividing by 60.\nminutes = 200\nhours = minutes / 60\nhours",
      "metadata": {}
    },
    {
      "cell_type": "markdown",
      "source": "**Objectives:**\n\n- List popular languages for Data Science.\n- Introduce common libraries used in Data Science.\n- Demonstrate basic arithmetic operations in Python.\n- Showcase tools used in Data Science development environments.\n",
      "metadata": {}
    },
    {
      "cell_type": "markdown",
      "source": "## Author\n\nInduja",
      "metadata": {}
    },
    {
      "cell_type": "code",
      "source": "",
      "metadata": {
        "trusted": true
      },
      "outputs": [],
      "execution_count": null
    }
  ]
}